{
 "cells": [
  {
   "cell_type": "code",
   "execution_count": 1,
   "metadata": {},
   "outputs": [],
   "source": [
    "# Importing all files \n",
    "from  sklearn import datasets \n",
    "from sklearn.ensemble import GradientBoostingRegressor as Sk_Gbr\n",
    "import GradientBoostingImplementation as gb\n",
    "from GradientBoostingImplementation import TreeViz\n",
    "import warnings\n",
    "import numpy as np \n",
    "warnings.filterwarnings(\"ignore\")"
   ]
  },
  {
   "cell_type": "code",
   "execution_count": 2,
   "metadata": {},
   "outputs": [],
   "source": [
    "n_features = 5"
   ]
  },
  {
   "cell_type": "code",
   "execution_count": 3,
   "metadata": {},
   "outputs": [
    {
     "name": "stdout",
     "output_type": "stream",
     "text": [
      "Iteration:  1\n",
      "Iteration:  2\n",
      "Iteration:  3\n",
      "Iteration:  4\n",
      "Iteration:  5\n",
      "Iteration:  6\n",
      "Iteration:  7\n",
      "Iteration:  8\n",
      "Iteration:  9\n",
      "Iteration:  10\n"
     ]
    }
   ],
   "source": [
    "gbr = gb.GradientBoostingRegressor(n_estimators=10, learning_rate=0.1, max_depth=4)\n",
    "\n",
    "s_gbr = Sk_Gbr(n_estimators=10, learning_rate=0.1, max_depth=4)\n",
    "\n",
    "X_vars = []\n",
    "y_vars = []\n",
    "betas = []\n",
    "implementation_importances = []\n",
    "sklearn_importances = []\n",
    "\n",
    "for i in range(10):\n",
    "    print(\"Iteration: \", i+1)\n",
    "    X,y, beta = datasets.make_regression(n_samples=100, n_features=5, n_informative=1, noise=10, coef = True)\n",
    "    X_vars.append(X)\n",
    "    y_vars.append(y)\n",
    "    betas.append(beta)\n",
    "    gbr.fit(X,y)\n",
    "    \n",
    "    implementation_importances.append(gbr._get_feature_importance(X))\n",
    "    s_gbr.fit(X,y)\n",
    "    sklearn_importances.append(s_gbr.feature_importances_)\n",
    "    "
   ]
  },
  {
   "cell_type": "code",
   "execution_count": 10,
   "metadata": {},
   "outputs": [
    {
     "name": "stdout",
     "output_type": "stream",
     "text": [
      "[array([array([0.15355783]), array([0.03182156]), array([0.03636869]),\n",
      "       0.5711345826829464, array([0.20711734])], dtype=object), array([array([0.14625904]), array([0.07512688]), array([0.0189536]),\n",
      "       0.5663930257137407, array([0.19326745])], dtype=object), array([array([0.10263467]), array([0.1099087]), array([0.06317191]),\n",
      "       0.5960483113330962, array([0.12823641])], dtype=object), array([array([0.22004895]), array([0.03846252]), 0.026479621289551458,\n",
      "       array([0.55277068]), array([0.16223823])], dtype=object), array([array([0.03961151]), array([0.04788853]), array([0.08354711]),\n",
      "       0.6355162013696366, array([0.19343665])], dtype=object), array([array([0.08680681]), array([0.11635484]), 0.079730328403184,\n",
      "       0.5268084544544686, array([0.19029956])], dtype=object), array([array([0.13640706]), array([0.07403858]), 0.04670679779669981,\n",
      "       array([0.53728961]), array([0.20555795])], dtype=object), array([[0.07673441],\n",
      "       [0.13661208],\n",
      "       [0.12216556],\n",
      "       [0.52094185],\n",
      "       [0.14354611]]), array([[0.26446758],\n",
      "       [0.08519303],\n",
      "       [0.09521186],\n",
      "       [0.45706444],\n",
      "       [0.09806309]]), array([array([0.06715989]), 0.2126312052352586, array([0.14874309]),\n",
      "       array([0.37109514]), array([0.20037067])], dtype=object)]\n",
      "<class 'list'>\n"
     ]
    },
    {
     "ename": "AttributeError",
     "evalue": "'list' object has no attribute 'shape'",
     "output_type": "error",
     "traceback": [
      "\u001b[1;31m---------------------------------------------------------------------------\u001b[0m",
      "\u001b[1;31mAttributeError\u001b[0m                            Traceback (most recent call last)",
      "\u001b[1;32m~\\AppData\\Local\\Temp/ipykernel_14392/4082038453.py\u001b[0m in \u001b[0;36m<module>\u001b[1;34m\u001b[0m\n\u001b[0;32m      2\u001b[0m     \u001b[0mprint\u001b[0m\u001b[1;33m(\u001b[0m\u001b[0mimportance\u001b[0m\u001b[1;33m)\u001b[0m\u001b[1;33m\u001b[0m\u001b[1;33m\u001b[0m\u001b[0m\n\u001b[0;32m      3\u001b[0m     \u001b[0mprint\u001b[0m\u001b[1;33m(\u001b[0m\u001b[0mtype\u001b[0m\u001b[1;33m(\u001b[0m\u001b[0mimportance\u001b[0m\u001b[1;33m)\u001b[0m\u001b[1;33m)\u001b[0m\u001b[1;33m\u001b[0m\u001b[1;33m\u001b[0m\u001b[0m\n\u001b[1;32m----> 4\u001b[1;33m     \u001b[0mprint\u001b[0m\u001b[1;33m(\u001b[0m\u001b[0mimportance\u001b[0m\u001b[1;33m.\u001b[0m\u001b[0mshape\u001b[0m\u001b[1;33m)\u001b[0m\u001b[1;33m\u001b[0m\u001b[1;33m\u001b[0m\u001b[0m\n\u001b[0m",
      "\u001b[1;31mAttributeError\u001b[0m: 'list' object has no attribute 'shape'"
     ]
    }
   ],
   "source": [
    "for importance in implementation_importances:\n",
    "    print(importance)\n",
    "    print(type(importance))\n",
    "    print(importance.shape)"
   ]
  },
  {
   "cell_type": "code",
   "execution_count": 24,
   "metadata": {},
   "outputs": [],
   "source": [
    "actual_importances = []\n",
    "for i in range(len(implementation_importances)):\n",
    "    for j in range((len(implementation_importances[i]))):\n",
    "        if implementation_importances[i][j].shape == (5,):\n",
    "            implementation_importances[i][j] = implementation_importances[i][j].reshape(-1,1)\n",
    "    actual_importances.append(np.mean(implementation_importances[i], axis = 0))\n",
    "    "
   ]
  },
  {
   "cell_type": "code",
   "execution_count": 27,
   "metadata": {},
   "outputs": [
    {
     "data": {
      "text/plain": [
       "(5, 1)"
      ]
     },
     "execution_count": 27,
     "metadata": {},
     "output_type": "execute_result"
    }
   ],
   "source": [
    "actual_importances[0].shape"
   ]
  },
  {
   "cell_type": "code",
   "execution_count": 28,
   "metadata": {},
   "outputs": [
    {
     "data": {
      "text/plain": [
       "[array([[array([0.12936878])],\n",
       "        [array([0.09280379])],\n",
       "        [array([0.07210786])],\n",
       "        [array([0.53350623])],\n",
       "        [array([0.17221335])]], dtype=object),\n",
       " array([[array([0.00247262])],\n",
       "        [array([0.00390839])],\n",
       "        [0.0010152377245788598],\n",
       "        [array([0.99021221])],\n",
       "        [array([0.00239155])]], dtype=object),\n",
       " array([[array([0.95874767])],\n",
       "        [array([0.01238726])],\n",
       "        [array([0.01014969])],\n",
       "        [array([0.01009697])],\n",
       "        [array([0.0086184])]], dtype=object),\n",
       " array([[array([0.04021193])],\n",
       "        [0.8463544544997543],\n",
       "        [array([0.02612133])],\n",
       "        [array([0.05691172])],\n",
       "        [array([0.03040057])]], dtype=object),\n",
       " array([[array([0.00213803])],\n",
       "        [array([0.99008632])],\n",
       "        [array([0.00096981])],\n",
       "        [array([0.00187197])],\n",
       "        [array([0.00493387])]], dtype=object),\n",
       " array([[array([0.00291305])],\n",
       "        [array([0.00078083])],\n",
       "        [array([0.00320064])],\n",
       "        [array([0.00142396])],\n",
       "        [array([0.99168152])]], dtype=object),\n",
       " array([[array([0.99152446])],\n",
       "        [array([0.00275429])],\n",
       "        [array([0.00258539])],\n",
       "        [array([0.00262102])],\n",
       "        [array([0.00051484])]], dtype=object),\n",
       " array([[array([0.01107654])],\n",
       "        [array([0.98543995])],\n",
       "        [array([0.00182808])],\n",
       "        [array([0.00114215])],\n",
       "        [array([0.00051328])]], dtype=object),\n",
       " array([[array([0.00237214])],\n",
       "        [array([0.00272513])],\n",
       "        [array([0.00826869])],\n",
       "        [0.003148523227666378],\n",
       "        [array([0.98348553])]], dtype=object),\n",
       " array([[array([0.00749852])],\n",
       "        [array([0.0077122])],\n",
       "        [0.9481236452497932],\n",
       "        [array([0.02718627])],\n",
       "        [array([0.00947937])]], dtype=object)]"
      ]
     },
     "execution_count": 28,
     "metadata": {},
     "output_type": "execute_result"
    }
   ],
   "source": [
    "actual_importances"
   ]
  },
  {
   "cell_type": "code",
   "execution_count": 5,
   "metadata": {},
   "outputs": [
    {
     "data": {
      "text/plain": [
       "[array([0.11446144, 0.04912429, 0.05946554, 0.63640253, 0.1405462 ]),\n",
       " array([2.95019608e-04, 2.59770848e-03, 4.64417300e-04, 9.94599223e-01,\n",
       "        2.04363149e-03]),\n",
       " array([0.95922614, 0.00712849, 0.01045719, 0.01550497, 0.00768321]),\n",
       " array([0.01301638, 0.89225703, 0.01413678, 0.05754663, 0.02304317]),\n",
       " array([9.24012997e-04, 9.96206612e-01, 7.12811578e-04, 2.09838082e-04,\n",
       "        1.94672488e-03]),\n",
       " array([1.07426460e-03, 8.15991401e-04, 6.63584696e-04, 1.42044922e-03,\n",
       "        9.96025710e-01]),\n",
       " array([0.99252255, 0.00198013, 0.00150351, 0.00242084, 0.00157298]),\n",
       " array([0.00331636, 0.98648316, 0.00730661, 0.00289388, 0.        ]),\n",
       " array([4.27350717e-04, 2.17109870e-03, 3.71456193e-03, 1.64995090e-03,\n",
       "        9.92037038e-01]),\n",
       " array([0.00330253, 0.00450762, 0.95685922, 0.02842282, 0.00690782])]"
      ]
     },
     "execution_count": 5,
     "metadata": {},
     "output_type": "execute_result"
    }
   ],
   "source": [
    "sklearn_importances"
   ]
  },
  {
   "cell_type": "code",
   "execution_count": null,
   "metadata": {},
   "outputs": [],
   "source": []
  }
 ],
 "metadata": {
  "interpreter": {
   "hash": "f2db188c233a700111d30e3ccbeb8d5ce15dbfb83d194c6870e309733805c539"
  },
  "kernelspec": {
   "display_name": "Python 3.9.6 64-bit",
   "language": "python",
   "name": "python3"
  },
  "language_info": {
   "codemirror_mode": {
    "name": "ipython",
    "version": 3
   },
   "file_extension": ".py",
   "mimetype": "text/x-python",
   "name": "python",
   "nbconvert_exporter": "python",
   "pygments_lexer": "ipython3",
   "version": "3.9.6"
  },
  "orig_nbformat": 4
 },
 "nbformat": 4,
 "nbformat_minor": 2
}
